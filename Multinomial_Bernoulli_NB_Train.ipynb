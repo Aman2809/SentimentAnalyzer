{
 "cells": [
  {
   "cell_type": "code",
   "id": "initial_id",
   "metadata": {
    "collapsed": true,
    "ExecuteTime": {
     "end_time": "2025-01-17T05:01:05.270980Z",
     "start_time": "2025-01-17T04:59:02.352644Z"
    }
   },
   "source": [
    "import pandas as pd\n",
    "from sklearn.model_selection import train_test_split\n",
    "from sklearn.feature_extraction.text import CountVectorizer, TfidfVectorizer\n",
    "from sklearn.naive_bayes import MultinomialNB, BernoulliNB\n",
    "from sklearn.metrics import accuracy_score, classification_report\n",
    "\n",
    "# Load the dataset\n",
    "file_path = 'datasetFolder/processed_dataset2.csv'  # Replace with your dataset path\n",
    "data = pd.read_csv(file_path, encoding='latin-1')\n",
    "\n",
    "# Rename columns for clarity\n",
    "data.columns = ['target', 'id', 'date', 'flag', 'user', 'text']\n",
    "\n",
    "# Features and target\n",
    "X = data['text']\n",
    "y = data['target']\n",
    "\n",
    "# Split the dataset\n",
    "X_train, X_test, y_train, y_test = train_test_split(X, y, test_size=0.2, random_state=42)\n",
    "\n",
    "# Vectorization for Multinomial Naive Bayes\n",
    "tfidf_vectorizer = TfidfVectorizer(ngram_range=(1, 2))\n",
    "X_train_tfidf = tfidf_vectorizer.fit_transform(X_train)\n",
    "X_test_tfidf = tfidf_vectorizer.transform(X_test)\n",
    "\n",
    "# Multinomial Naive Bayes\n",
    "mnb_model = MultinomialNB()\n",
    "mnb_model.fit(X_train_tfidf, y_train)\n",
    "y_pred_mnb = mnb_model.predict(X_test_tfidf)\n",
    "\n",
    "# Evaluation for Multinomial Naive Bayes\n",
    "print(\"Multinomial Naive Bayes Accuracy:\", accuracy_score(y_test, y_pred_mnb))\n",
    "print(\"\\nClassification Report:\\n\", classification_report(y_test, y_pred_mnb))\n",
    "\n",
    "# Vectorization for Bernoulli Naive Bayes\n",
    "binary_vectorizer = CountVectorizer(binary=True)\n",
    "X_train_binary = binary_vectorizer.fit_transform(X_train)\n",
    "X_test_binary = binary_vectorizer.transform(X_test)\n",
    "\n",
    "# Bernoulli Naive Bayes\n",
    "bnb_model = BernoulliNB()\n",
    "bnb_model.fit(X_train_binary, y_train)\n",
    "y_pred_bnb = bnb_model.predict(X_test_binary)\n",
    "\n",
    "# Evaluation for Bernoulli Naive Bayes\n",
    "print(\"Bernoulli Naive Bayes Accuracy:\", accuracy_score(y_test, y_pred_bnb))\n",
    "print(\"\\nClassification Report:\\n\", classification_report(y_test, y_pred_bnb))"
   ],
   "outputs": [
    {
     "name": "stdout",
     "output_type": "stream",
     "text": [
      "Multinomial Naive Bayes Accuracy: 0.7773015858130222\n",
      "\n",
      "Classification Report:\n",
      "               precision    recall  f1-score   support\n",
      "\n",
      "           0       0.76      0.80      0.78    159444\n",
      "           1       0.79      0.75      0.77    160455\n",
      "\n",
      "    accuracy                           0.78    319899\n",
      "   macro avg       0.78      0.78      0.78    319899\n",
      "weighted avg       0.78      0.78      0.78    319899\n",
      "\n",
      "Bernoulli Naive Bayes Accuracy: 0.7640161425950065\n",
      "\n",
      "Classification Report:\n",
      "               precision    recall  f1-score   support\n",
      "\n",
      "           0       0.75      0.79      0.77    159444\n",
      "           1       0.78      0.74      0.76    160455\n",
      "\n",
      "    accuracy                           0.76    319899\n",
      "   macro avg       0.76      0.76      0.76    319899\n",
      "weighted avg       0.76      0.76      0.76    319899\n",
      "\n"
     ]
    }
   ],
   "execution_count": 1
  }
 ],
 "metadata": {
  "kernelspec": {
   "display_name": "Python 3",
   "language": "python",
   "name": "python3"
  },
  "language_info": {
   "codemirror_mode": {
    "name": "ipython",
    "version": 2
   },
   "file_extension": ".py",
   "mimetype": "text/x-python",
   "name": "python",
   "nbconvert_exporter": "python",
   "pygments_lexer": "ipython2",
   "version": "2.7.6"
  }
 },
 "nbformat": 4,
 "nbformat_minor": 5
}
